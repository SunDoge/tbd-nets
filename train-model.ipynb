{
 "cells": [
  {
   "cell_type": "markdown",
   "metadata": {},
   "source": [
    "This notebook shows how to train a Transparency by Design network (TbD-net) on the CLEVR dataset. Training for CoGenT can be done in much the same manner, simply changing the training and validation loaders and updating the evaluation code to evaluate over Condition A and Condition B."
   ]
  },
  {
   "cell_type": "code",
   "execution_count": 1,
   "metadata": {
    "collapsed": true
   },
   "outputs": [],
   "source": [
    "from pathlib import Path\n",
    "\n",
    "import torch\n",
    "import torch.optim as optim\n",
    "import numpy as np\n",
    "\n",
    "from utils.clevr import load_vocab, ClevrDataLoaderNumpy, ClevrDataLoaderH5\n",
    "from tbd.module_net import TbDNet"
   ]
  },
  {
   "cell_type": "markdown",
   "metadata": {},
   "source": [
    "We want to run on CUDA if we have CUDA support so that we can train our model in a reasonable amount of time. We'll define the device accordingly."
   ]
  },
  {
   "cell_type": "code",
   "execution_count": 2,
   "metadata": {
    "collapsed": true
   },
   "outputs": [],
   "source": [
    "device = 'cuda' if torch.cuda.is_available() else 'cpu'"
   ]
  },
  {
   "cell_type": "markdown",
   "metadata": {},
   "source": [
    "The first step is to create our model.\n",
    "\n",
    "We first load the `vocab` file, which holds a list of all the modules we're going to need. We then pass the vocab into our `TbDNet`, which creates an appropriate neural module for each operation in the vocab."
   ]
  },
  {
   "cell_type": "code",
   "execution_count": 3,
   "metadata": {
    "collapsed": true
   },
   "outputs": [],
   "source": [
    "vocab = load_vocab(Path('data/vocab.json'))\n",
    "\n",
    "# to train on 14x14 feature maps, pass feature_dim=(1024, 14, 14) to TbDNet\n",
    "tbd_net = TbDNet(vocab).to(device)"
   ]
  },
  {
   "cell_type": "markdown",
   "metadata": {},
   "source": [
    "Next up, we need to load our data.\n",
    "\n",
    "The `use_numpy_format` flag indicates whether we're loading data using npy files or HDF5 files.\n",
    "\n",
    "We create the appropriate `DataLoader` objects depending on the choice."
   ]
  },
  {
   "cell_type": "code",
   "execution_count": 4,
   "metadata": {},
   "outputs": [
    {
     "name": "stdout",
     "output_type": "stream",
     "text": [
      "Reading features from  data/train_features_hres.npy\n",
      "Reading questions from  data/training/train_questions.npy\n",
      "Reading image indices from data/training/train_image_idxs.npy\n",
      "Reading programs from data/training/train_programs.npy\n",
      "Reading answers from data/training/train_answers.npy\n",
      "Reading features from  data/val_features_hres.npy\n",
      "Reading questions from  data/validation/val_questions.npy\n",
      "Reading image indices from data/validation/val_image_idxs.npy\n",
      "Reading programs from data/validation/val_programs.npy\n",
      "Reading answers from data/validation/val_answers.npy\n"
     ]
    }
   ],
   "source": [
    "use_numpy_format = True\n",
    "\n",
    "if use_numpy_format:\n",
    "    train_loader_kwargs = {\n",
    "        'question_np': Path('data/training/train_questions.npy'),\n",
    "        'image_idx_np': Path('data/training/train_image_idxs.npy'),\n",
    "        'program_np': Path('data/training/train_programs.npy'),\n",
    "        'feature_np': Path('data/train_features_hres.npy'),\n",
    "        'answer_np': Path('data/training/train_answers.npy'),\n",
    "        'batch_size': 128,\n",
    "        'num_workers': 2,\n",
    "        'shuffle': True\n",
    "    }\n",
    "\n",
    "    val_loader_kwargs = {\n",
    "        'question_np': Path('data/validation/val_questions.npy'),\n",
    "        'image_idx_np': Path('data/validation/val_image_idxs.npy'),\n",
    "        'program_np': Path('data/validation/val_programs.npy'),\n",
    "        'feature_np': Path('clevr-iep/data/val_features_hres.npy'),\n",
    "        'answer_np': Path('data/validation/val_answers.npy'),\n",
    "        'batch_size': 128,\n",
    "        'num_workers': 2,\n",
    "        'shuffle': False\n",
    "    }\n",
    "    \n",
    "    train_loader = ClevrDataLoaderNumpy(**train_loader_kwargs)\n",
    "    val_loader = ClevrDataLoaderNumpy(**val_loader_kwargs)\n",
    "else:\n",
    "    train_loader_kwargs = {\n",
    "        'question_h5': Path('data/training/train_questions.h5'),\n",
    "        'feature_h5': Path('data/training/train_features_hres.h5'),\n",
    "        'batch_size': 128,\n",
    "        'num_workers': 2,\n",
    "        'shuffle': True\n",
    "    }\n",
    "    val_loader_kwargs = {\n",
    "        'question_h5': Path('data/validation/val_questions.h5'),\n",
    "        'feature_h5': Path('data/validation/val_features_hres.h5'),\n",
    "        'batch_size': 128,\n",
    "        'num_workers': 2,\n",
    "        'shuffle': False\n",
    "    }\n",
    "    \n",
    "    train_loader = ClevrDataLoaderH5(**train_loader_kwargs)\n",
    "    val_loader = ClevrDataLoaderH5(**val_loader_kwargs)"
   ]
  },
  {
   "cell_type": "markdown",
   "metadata": {},
   "source": [
    "The answer format we prefer is different from that of Justin Johson *et al.*\n",
    "\n",
    "Their answers are sorted according to ASCII value, while we group by answer type and sort these alphabetically. Note that we have fewer answers than them, because we do not list the special tokens `<NULL>`, `<START>`, `<END>`, and `<UNK>` as answers."
   ]
  },
  {
   "cell_type": "code",
   "execution_count": 5,
   "metadata": {
    "collapsed": true
   },
   "outputs": [],
   "source": [
    "def map_ans(answers):\n",
    "    ''' Map the answers from the format Justin Johnson et al. use to our own format. '''\n",
    "    ans_tensor = torch.LongTensor(answers.size())\n",
    "    ans_tensor[answers == 15] = 0  # blue\n",
    "    ans_tensor[answers == 16] = 1  # brown\n",
    "    ans_tensor[answers == 18] = 2  # cyan\n",
    "    ans_tensor[answers == 20] = 3  # gray\n",
    "    ans_tensor[answers == 21] = 4  # green\n",
    "    ans_tensor[answers == 25] = 5  # purple\n",
    "    ans_tensor[answers == 26] = 6  # red\n",
    "    ans_tensor[answers == 30] = 7  # yellow\n",
    "    ans_tensor[answers == 17] = 8  # cube\n",
    "    ans_tensor[answers == 19] = 9  # cylinder\n",
    "    ans_tensor[answers == 29] = 10 # sphere\n",
    "    ans_tensor[answers == 22] = 11 # large\n",
    "    ans_tensor[answers == 28] = 12 # small\n",
    "    ans_tensor[answers == 23] = 13 # metal\n",
    "    ans_tensor[answers == 27] = 14 # rubber\n",
    "    ans_tensor[answers == 24] = 15 # no\n",
    "    ans_tensor[answers == 31] = 16 # yes\n",
    "    ans_tensor[answers == 4] = 17  # 0\n",
    "    ans_tensor[answers == 5] = 18  # 1\n",
    "    ans_tensor[answers == 6] = 19  # 10 <- originally sorted by ASCII value, not numerical\n",
    "    ans_tensor[answers == 7] = 20  # 2\n",
    "    ans_tensor[answers == 8] = 21  # 3\n",
    "    ans_tensor[answers == 9] = 22  # 4\n",
    "    ans_tensor[answers == 10] = 23 # 5\n",
    "    ans_tensor[answers == 11] = 24 # 6\n",
    "    ans_tensor[answers == 12] = 25 # 7\n",
    "    ans_tensor[answers == 13] = 26 # 8\n",
    "    ans_tensor[answers == 14] = 27 # 9\n",
    "    return ans_tensor"
   ]
  },
  {
   "cell_type": "markdown",
   "metadata": {},
   "source": [
    "At each epoch, we'll save our model's state, the epoch, and the training state."
   ]
  },
  {
   "cell_type": "code",
   "execution_count": 6,
   "metadata": {
    "collapsed": true
   },
   "outputs": [],
   "source": [
    "def save_checkpoint(epoch, filename):\n",
    "    ''' Save the training state. '''\n",
    "    state = {\n",
    "        'epoch': epoch,\n",
    "        'state_dict': tbd_net.state_dict(),\n",
    "        'optimizer': optimizer.state_dict()\n",
    "        }\n",
    "    torch.save(state, filename)"
   ]
  },
  {
   "cell_type": "code",
   "execution_count": 7,
   "metadata": {
    "collapsed": true
   },
   "outputs": [],
   "source": [
    "def check_accuracy(loader):\n",
    "    '''\n",
    "    Convenience function for checking the accuracy of the model \n",
    "    over all the data in a given `DataLoader`\n",
    "    '''\n",
    "    torch.set_grad_enabled(False)\n",
    "    num_correct, num_samples = 0, 0\n",
    "    for batch in loader:\n",
    "        _, _, feats, answers, programs = batch\n",
    "        feats = feats.to(device)\n",
    "        programs = programs.to(device)\n",
    "\n",
    "        outs = tbd_net(feats, programs)\n",
    "        _, preds = outs.max(1)\n",
    "        mapped_ans = map_ans(answers)\n",
    "        num_correct += (preds.to('cpu') == mapped_ans).sum()\n",
    "        num_samples += preds.size(0)\n",
    "\n",
    "    return (num_correct, num_samples)"
   ]
  },
  {
   "cell_type": "code",
   "execution_count": 8,
   "metadata": {
    "collapsed": true
   },
   "outputs": [],
   "source": [
    "def write_acc(f, string, correct, total):\n",
    "    ''' Convenience function to write the accuracy to a file '''\n",
    "    percent = correct / total * 100 if total != 0 else 100\n",
    "    f.write(string.format(correct, total, percent))"
   ]
  },
  {
   "cell_type": "markdown",
   "metadata": {},
   "source": [
    "Create the optimizer and loss function we will use to train our model"
   ]
  },
  {
   "cell_type": "code",
   "execution_count": 9,
   "metadata": {
    "collapsed": true
   },
   "outputs": [],
   "source": [
    "optimizer = torch.optim.Adam(tbd_net.parameters(), 1e-04)\n",
    "xent_loss = torch.nn.CrossEntropyLoss().to(device)"
   ]
  },
  {
   "cell_type": "code",
   "execution_count": 10,
   "metadata": {
    "collapsed": true
   },
   "outputs": [],
   "source": [
    "def train_epoch():\n",
    "    ''' Convenience function to train the model for one epoch.\n",
    "    Note that the reported training accuracy is not a true measure of accuracy after\n",
    "    training for a full epoch, as it is computed during training. However, it does give a\n",
    "    decent measure of progress.\n",
    "    '''\n",
    "    torch.set_grad_enabled(True)\n",
    "    num_correct, num_samples = 0, 0\n",
    "    for batch in train_loader:\n",
    "        _, _, feats, answers, programs = batch\n",
    "        feats = feats.to(device)\n",
    "        programs = programs.to(device)\n",
    "\n",
    "        optimizer.zero_grad()\n",
    "        outs = tbd_net(feats, programs)\n",
    "        _, preds = outs.max(1)\n",
    "        mapped_ans = map_ans(answers)\n",
    "        num_correct += (preds.to('cpu') == mapped_ans).sum()\n",
    "        num_samples += preds.size(0)\n",
    "        loss = xent_loss(outs, mapped_ans.to(device))\n",
    "    \n",
    "        # The following line applies an L1 penalty to the intermediate attention masks.\n",
    "        # This gives a signal to the model to minimize its attention outputs, which we \n",
    "        # find (nearly) removes spurious activations in background regions. Our thought\n",
    "        # process is that background regions normally get no signal to push them to zero\n",
    "        # because the model is able to effectively ignore them, so a somewhat noisy\n",
    "        # attention output is adequate. By applying this penalty, we incentivize minimizing\n",
    "        # the spurious activations, leading to better-looking outputs. For a comparison, see\n",
    "        # the visualize-outputs.ipynb notebook. If you wish to replicate the *original*\n",
    "        # results, comment the following line or change the multiplier to zero. In all \n",
    "        # other cases, we recommend keeping this factor and tuning it to your use-case if\n",
    "        # this default is not adequate.\n",
    "        loss += tbd_net.attention_sum * 2.5e-07\n",
    "        \n",
    "        loss_file.write('Loss: {}\\n'.format(loss.data[0]))\n",
    "        loss.backward()\n",
    "        optimizer.step()\n",
    "\n",
    "    val_correct, val_samples = check_accuracy(val_loader)\n",
    "    \n",
    "    write_acc(acc_file, 'Train Accuracy: {} / {} ({:.2f}%)\\n', num_correct, num_samples)\n",
    "    write_acc(acc_file, 'Val Accuracy: {} / {} ({:.2f}%)\\n', val_correct, val_samples)\n",
    "    acc_file.flush()"
   ]
  },
  {
   "cell_type": "markdown",
   "metadata": {},
   "source": [
    "Open a loss log and an accuracy log for writing, then train for 30 epochs, saving our model after each epoch."
   ]
  },
  {
   "cell_type": "code",
   "execution_count": 11,
   "metadata": {},
   "outputs": [
    {
     "name": "stdout",
     "output_type": "stream",
     "text": [
      "starting epoch 1\n",
      "starting epoch 2\n",
      "starting epoch 3\n",
      "starting epoch 4\n",
      "starting epoch 5\n",
      "starting epoch 6\n",
      "starting epoch 7\n",
      "starting epoch 8\n",
      "starting epoch 9\n",
      "starting epoch 10\n",
      "starting epoch 11\n",
      "starting epoch 12\n",
      "starting epoch 13\n",
      "starting epoch 14\n",
      "starting epoch 15\n",
      "starting epoch 16\n",
      "starting epoch 17\n",
      "starting epoch 18\n",
      "starting epoch 19\n",
      "starting epoch 20\n",
      "starting epoch 21\n",
      "starting epoch 22\n",
      "starting epoch 23\n",
      "starting epoch 24\n",
      "starting epoch 25\n",
      "starting epoch 26\n",
      "starting epoch 27\n",
      "starting epoch 28\n",
      "starting epoch 29\n",
      "starting epoch 30\n"
     ]
    }
   ],
   "source": [
    "loss_file = open(Path('results/example-loss.txt'), 'a')\n",
    "acc_file = open(Path('results/example-acc.txt'), 'a')\n",
    "epoch = 0\n",
    "while epoch < 30:\n",
    "    save_checkpoint(epoch, 'example-{:02d}.pt'.format(epoch))\n",
    "    epoch += 1\n",
    "    print('starting epoch', epoch)\n",
    "    train_epoch()\n",
    "\n",
    "save_checkpoint(epoch, 'example-{:02d}.pt'.format(epoch))"
   ]
  },
  {
   "cell_type": "markdown",
   "metadata": {
    "collapsed": true
   },
   "source": [
    "Now let's see how our model did!\n",
    "\n",
    "You can certainly use the following in a separate notebook to monitor progress during training, as well."
   ]
  },
  {
   "cell_type": "code",
   "execution_count": 12,
   "metadata": {
    "collapsed": true
   },
   "outputs": [],
   "source": [
    "import matplotlib.pyplot as plt\n",
    "%matplotlib notebook"
   ]
  },
  {
   "cell_type": "code",
   "execution_count": 13,
   "metadata": {
    "collapsed": true
   },
   "outputs": [],
   "source": [
    "def plot(data, title):\n",
    "    ''' Scatterplot with a smoothed average line '''\n",
    "    fig, ax = plt.subplots()\n",
    "    x = range(len(data))\n",
    "    ax.scatter(x, data, s=5)\n",
    "    c = np.cumsum(np.insert(data, 0, 0))\n",
    "    smoothed = (c[50:] - c[:-50]) / 50\n",
    "    ax.plot(smoothed, color='r')\n",
    "    ax.set_title(title)"
   ]
  },
  {
   "cell_type": "markdown",
   "metadata": {},
   "source": [
    "Read in our batch losses and plot them"
   ]
  },
  {
   "cell_type": "code",
   "execution_count": 14,
   "metadata": {},
   "outputs": [
    {
     "data": {
      "text/plain": []
     },
     "metadata": {},
     "output_type": "display_data"
    },
    {
     "data": {
      "text/html": [
       "<img src=\"data:image/png;base64,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\" width=\"640\">"
      ],
      "text/plain": [
       "<IPython.core.display.HTML object>"
      ]
     },
     "metadata": {},
     "output_type": "execute_result"
    }
   ],
   "source": [
    "loss = []\n",
    "with open(Path('results/example-loss.txt')) as f:\n",
    "    for line in f:\n",
    "        loss.append(float(line[6:]))\n",
    "loss = np.array(loss)\n",
    "\n",
    "plot(loss, 'Loss')"
   ]
  },
  {
   "cell_type": "markdown",
   "metadata": {},
   "source": [
    "The above loss curve looks pretty typical for our model.\n",
    "\n",
    "We get a very quick drop in the loss as our model learns some answers are ridiculous. For example, the `query_color` module should never output an answer that isn't a color and `count` should never output an answer that's not a number.\n",
    "\n",
    "We then begin learning useful attentions, which lead to a rapid decrease in the loss, following which we see a smooth decrease toward zero."
   ]
  },
  {
   "cell_type": "markdown",
   "metadata": {},
   "source": [
    "Let's read in our accuracy next"
   ]
  },
  {
   "cell_type": "code",
   "execution_count": 15,
   "metadata": {},
   "outputs": [
    {
     "data": {
      "text/plain": []
     },
     "metadata": {},
     "output_type": "display_data"
    },
    {
     "data": {
      "text/html": [
       "<img src=\"data:image/png;base64,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\" width=\"640\">"
      ],
      "text/plain": [
       "<IPython.core.display.HTML object>"
      ]
     },
     "metadata": {},
     "output_type": "execute_result"
    },
    {
     "name": "stdout",
     "output_type": "stream",
     "text": [
      "[ 47.78  48.61  50.09  79.28  93.39  96.29  97.57  98.22  98.7   98.91\n",
      "  99.07  99.2   99.31  99.42  99.43  99.48  99.53  99.58  99.6   99.66\n",
      "  99.7   99.7   99.69  99.74  99.75  99.74  99.73  99.7   99.76]\n",
      "[ 48.29  49.07  52.15  91.38  94.98  97.11  97.21  97.88  98.6   98.64\n",
      "  98.53  98.79  98.86  98.81  98.97  98.92  98.82  99.05  99.02  98.88\n",
      "  98.86  98.85  98.75  98.95  98.99  98.96  98.92  99.01  99.03]\n",
      "Highest validation accuracy: 99.05\n"
     ]
    }
   ],
   "source": [
    "train_acc = []\n",
    "val_acc = []\n",
    "with open(Path('results/example-acc.txt')) as f:\n",
    "    for line in f:\n",
    "        train_acc.append(float(line[-8:-3]))\n",
    "        val_acc.append(float(f.readline()[-8:-3]))\n",
    "    \n",
    "train_acc = np.array(train_acc)\n",
    "val_acc = np.array(val_acc)\n",
    "\n",
    "x = range(len(train_acc))\n",
    "fig, ax = plt.subplots()\n",
    "ax.plot(x, train_acc, label='Train', c='g')\n",
    "ax.plot(x, val_acc, label='Val', c='g', ls=':')\n",
    "ax.legend()\n",
    "\n",
    "print(train_acc)\n",
    "print(val_acc)\n",
    "print('Highest validation accuracy: {}'.format(val_acc.max()))"
   ]
  },
  {
   "cell_type": "markdown",
   "metadata": {},
   "source": [
    "We see our model learns remarkably quickly. After the first couple epochs, the model is refining attentions, having learned generally what they should be doing. Again, note that the training accuracy is not quite a correct measure of training performance since it is computed during training. This is why training accuracy is slightly below validation accuracy for a while."
   ]
  }
 ],
 "metadata": {
  "kernelspec": {
   "display_name": "Python 3",
   "language": "python",
   "name": "python3"
  },
  "language_info": {
   "codemirror_mode": {
    "name": "ipython",
    "version": 3
   },
   "file_extension": ".py",
   "mimetype": "text/x-python",
   "name": "python",
   "nbconvert_exporter": "python",
   "pygments_lexer": "ipython3",
   "version": "3.6.2"
  }
 },
 "nbformat": 4,
 "nbformat_minor": 2
}
